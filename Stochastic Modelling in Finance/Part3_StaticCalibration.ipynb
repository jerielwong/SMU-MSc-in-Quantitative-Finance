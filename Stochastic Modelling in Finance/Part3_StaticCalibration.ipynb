{
 "cells": [
  {
   "cell_type": "code",
   "execution_count": 1,
   "id": "b2596811",
   "metadata": {
    "ExecuteTime": {
     "end_time": "2021-11-20T19:01:17.001633Z",
     "start_time": "2021-11-20T19:01:16.197482Z"
    }
   },
   "outputs": [],
   "source": [
    "from scipy.integrate import quad"
   ]
  },
  {
   "cell_type": "code",
   "execution_count": 2,
   "id": "fa2ba9a5",
   "metadata": {
    "ExecuteTime": {
     "end_time": "2021-11-20T19:01:17.712461Z",
     "start_time": "2021-11-20T19:01:17.002632Z"
    }
   },
   "outputs": [],
   "source": [
    "import numpy as np\n",
    "from scipy.stats import norm\n",
    "from datetime import datetime\n",
    "import pandas as pd\n",
    "from scipy.interpolate import interp1d\n",
    "from scipy.optimize import brentq"
   ]
  },
  {
   "cell_type": "markdown",
   "id": "792b2da2",
   "metadata": {},
   "source": [
    "# Load Data"
   ]
  },
  {
   "cell_type": "code",
   "execution_count": 3,
   "id": "eaf7d5b3",
   "metadata": {
    "ExecuteTime": {
     "end_time": "2021-11-20T19:01:17.743458Z",
     "start_time": "2021-11-20T19:01:17.714458Z"
    }
   },
   "outputs": [],
   "source": [
    "df_rates = pd.read_csv(\"zero_rates_20201201.csv\")\n",
    "df_rates['rate'] = df_rates['rate']/100\n",
    "\n",
    "rates_interp = interp1d(list(df_rates[\"days\"]), list(df_rates[\"rate\"]))"
   ]
  },
  {
   "cell_type": "code",
   "execution_count": 4,
   "id": "342fc746",
   "metadata": {
    "ExecuteTime": {
     "end_time": "2021-11-20T19:01:17.774460Z",
     "start_time": "2021-11-20T19:01:17.745458Z"
    }
   },
   "outputs": [],
   "source": [
    "## load spx and spy data\n",
    "\n",
    "df_spx_raw = pd.read_csv(\"SPX_options.csv\")\n",
    "df_spy_raw = pd.read_csv(\"SPY_options.csv\")"
   ]
  },
  {
   "cell_type": "code",
   "execution_count": 5,
   "id": "a1f70b9d",
   "metadata": {
    "ExecuteTime": {
     "end_time": "2021-11-20T19:01:17.790461Z",
     "start_time": "2021-11-20T19:01:17.775457Z"
    }
   },
   "outputs": [],
   "source": [
    "df_spx = df_spx_raw.copy()\n",
    "df_spy = df_spy_raw.copy()\n",
    "\n",
    "df_spx[\"strike_price\"] = df_spx[\"strike_price\"]/1000\n",
    "df_spy[\"strike_price\"] = df_spy[\"strike_price\"]/1000"
   ]
  },
  {
   "cell_type": "code",
   "execution_count": 6,
   "id": "874e64cb",
   "metadata": {
    "ExecuteTime": {
     "end_time": "2021-11-20T19:01:17.806458Z",
     "start_time": "2021-11-20T19:01:17.792458Z"
    }
   },
   "outputs": [],
   "source": [
    "# underlying price of SPX and SPY on 20201201\n",
    "spx_underlying = 3662.45\n",
    "spy_underlying = 366.02"
   ]
  },
  {
   "cell_type": "code",
   "execution_count": 7,
   "id": "2a52d400",
   "metadata": {
    "ExecuteTime": {
     "end_time": "2021-11-20T19:01:17.822458Z",
     "start_time": "2021-11-20T19:01:17.807458Z"
    }
   },
   "outputs": [],
   "source": [
    "df_spx[\"moneyness\"] = \"ITM\" \n",
    "\n",
    "df_spx.loc[(df_spx[\"cp_flag\"] == \"C\")  & (df_spx[\"strike_price\"] > spx_underlying), \"moneyness\" ] = \"OTM\"\n",
    "df_spx.loc[(df_spx[\"cp_flag\"] == \"P\")  & (df_spx[\"strike_price\"] < spx_underlying), \"moneyness\" ] = \"OTM\"\n",
    "\n",
    "df_spy[\"moneyness\"] = \"ITM\" \n",
    "\n",
    "df_spy.loc[(df_spy[\"cp_flag\"] == \"C\")  & (df_spy[\"strike_price\"] > spy_underlying), \"moneyness\" ] = \"OTM\"\n",
    "df_spy.loc[(df_spy[\"cp_flag\"] == \"P\")  & (df_spy[\"strike_price\"] < spy_underlying), \"moneyness\" ] = \"OTM\""
   ]
  },
  {
   "cell_type": "code",
   "execution_count": 8,
   "id": "964dc2b3",
   "metadata": {
    "ExecuteTime": {
     "end_time": "2021-11-20T19:01:17.838460Z",
     "start_time": "2021-11-20T19:01:17.825462Z"
    }
   },
   "outputs": [],
   "source": [
    "#using average of best bid and best offer to get mid price, which will be used to calculate implied volatility\n",
    "\n",
    "df_spx[\"mid_price\"] = (df_spx[\"best_bid\"] + df_spx[\"best_offer\"])/2\n",
    "df_spy[\"mid_price\"] = (df_spy[\"best_bid\"] + df_spy[\"best_offer\"])/2"
   ]
  },
  {
   "cell_type": "code",
   "execution_count": 9,
   "id": "ea64d526",
   "metadata": {
    "ExecuteTime": {
     "end_time": "2021-11-20T19:01:17.854459Z",
     "start_time": "2021-11-20T19:01:17.840459Z"
    }
   },
   "outputs": [],
   "source": [
    "#change expiry to datetime format\n",
    "df_spx[\"expiry\"] = pd.to_datetime(df_spx[\"exdate\"], format = \"%Y%m%d\")\n",
    "df_spy[\"expiry\"] = pd.to_datetime(df_spy[\"exdate\"], format = \"%Y%m%d\")"
   ]
  },
  {
   "cell_type": "code",
   "execution_count": 10,
   "id": "763f3ecd",
   "metadata": {
    "ExecuteTime": {
     "end_time": "2021-11-20T19:01:17.870458Z",
     "start_time": "2021-11-20T19:01:17.855461Z"
    }
   },
   "outputs": [],
   "source": [
    "#calculate days from expiry for each SPX and SPY options\n",
    "\n",
    "df_spx[\"days\"] = df_spx[\"expiry\"] -  datetime(2020,12,1)\n",
    "df_spx[\"days\"] = df_spx[\"days\"].dt.days \n",
    "df_spx[\"T\"] = df_spx[\"days\"] / 365\n",
    "\n",
    "df_spy[\"days\"] = df_spy[\"expiry\"] -  datetime(2020,12,1)\n",
    "df_spy[\"days\"] = df_spy[\"days\"].dt.days \n",
    "df_spy[\"T\"] = df_spy[\"days\"] / 365"
   ]
  },
  {
   "cell_type": "code",
   "execution_count": 11,
   "id": "805f938b",
   "metadata": {
    "ExecuteTime": {
     "end_time": "2021-11-20T19:01:18.060609Z",
     "start_time": "2021-11-20T19:01:17.871459Z"
    }
   },
   "outputs": [],
   "source": [
    "#calculate rates by interpolating using \"zero rates 20201201.csv\"\n",
    "\n",
    "df_spx[\"r\"] = df_spx[\"days\"].apply(lambda x: rates_interp([x])[0])\n",
    "df_spy[\"r\"] = df_spy[\"days\"].apply(lambda x: rates_interp([x])[0])"
   ]
  },
  {
   "cell_type": "code",
   "execution_count": 12,
   "id": "6066fd3d",
   "metadata": {
    "ExecuteTime": {
     "end_time": "2021-11-20T19:01:18.075939Z",
     "start_time": "2021-11-20T19:01:18.062831Z"
    }
   },
   "outputs": [],
   "source": [
    "#calculate forward price at expiry F(T)\n",
    "df_spx[\"F\"] = spx_underlying * np.power(np.e, ((df_spx[\"r\"]) * (df_spx[\"T\"])))\n",
    "df_spy[\"F\"] = spy_underlying * np.power(np.e, ((df_spy[\"r\"]) * (df_spy[\"T\"])))"
   ]
  },
  {
   "cell_type": "code",
   "execution_count": 13,
   "id": "8b69521a",
   "metadata": {
    "ExecuteTime": {
     "end_time": "2021-11-20T19:01:18.090967Z",
     "start_time": "2021-11-20T19:01:18.077937Z"
    }
   },
   "outputs": [],
   "source": [
    "def BlackScholesCall(S, K, r, sigma, T):\n",
    "    d1 = (np.log(S/K)+(r+sigma**2/2)*T) / (sigma*np.sqrt(T))\n",
    "    d2 = d1 - sigma*np.sqrt(T)\n",
    "    return S*norm.cdf(d1) - K*np.exp(-r*T)*norm.cdf(d2)\n",
    "\n",
    "def BlackScholesPut(S, K, r, sigma, T):\n",
    "    return BlackScholesCall(S, K, r, sigma, T) - S + K*np.exp(-r*T)\n",
    "\n",
    "def BachelierCall(S, K, r, sigma, T):\n",
    "    d1 = (S-K)/(sigma*np.sqrt(T))\n",
    "    return np.exp(-r*T)*((S-K)*norm.cdf(d1)+sigma*np.sqrt(T)*norm.pdf(d1))\n",
    "\n",
    "def BachelierPut(S, K, r, sigma, T):\n",
    "    return BachelierCall(S, K, r, sigma, T) - S + K*np.exp(-r*T)\n",
    "\n",
    "def calc_implied_vol(S,K, r, price, T, flag, moneyness, model):\n",
    "    \"calculate implied volality for OTM only\"\n",
    "    if moneyness != \"OTM\":\n",
    "        return np.nan\n",
    "    else:\n",
    "        impliedvol = impliedVolatility(S, K, r, price, T, flag, model)\n",
    "        #print(impliedvol)\n",
    "        return impliedvol\n",
    "    \n",
    "def impliedVolatility(S, K, r, price, T, payoff, model):\n",
    "    \"return implied volatility using black scholes given price\"\n",
    "    #try:\n",
    "    if (payoff.lower() == 'c'):\n",
    "        if (model.lower() == 'blackscholes'):\n",
    "            impliedVol = brentq(lambda x: price - BlackScholesCall(S, K, r, x, T), -1e-12, 10)\n",
    "        else:\n",
    "            impliedVol = brentq(lambda x: price - BachelierCall(S, K, r, x, T), -1e-12, 1e10)\n",
    "    elif (payoff.lower() == 'p'):\n",
    "        if (model.lower() == 'blackscholes'):\n",
    "            impliedVol = brentq(lambda x: price - BlackScholesPut(S, K, r, x, T), -1e-12, 10)\n",
    "        else:\n",
    "            impliedVol = brentq(lambda x: price - BachelierPut(S, K, r, x, T), -1e-12, 1e10)\n",
    "    else:\n",
    "        raise NameError('Payoff type not recognized')\n",
    "    #except Exception:\n",
    "    #    print('ex')\n",
    "    #    impliedVol = np.nan\n",
    "\n",
    "    return impliedVol"
   ]
  },
  {
   "cell_type": "code",
   "execution_count": 14,
   "id": "42a930ef",
   "metadata": {
    "ExecuteTime": {
     "end_time": "2021-11-20T19:01:28.544145Z",
     "start_time": "2021-11-20T19:01:18.092937Z"
    }
   },
   "outputs": [],
   "source": [
    "#calculate implied vol for OTM only\n",
    "\n",
    "df_spx[\"impliedvol_blackscholes\"] = df_spx.apply(lambda r: calc_implied_vol(\n",
    "                        spx_underlying,\n",
    "                        r[\"strike_price\"],\n",
    "                        r[\"r\"],\n",
    "                        r[\"mid_price\"],\n",
    "                        r['T'],\n",
    "                        r[\"cp_flag\"],\n",
    "                        r[\"moneyness\"],'blackscholes'), axis = 1)\n",
    "df_spy[\"impliedvol_blackscholes\"] = df_spy.apply(lambda r: calc_implied_vol(\n",
    "                        spy_underlying,\n",
    "                        r[\"strike_price\"],\n",
    "                        r[\"r\"],\n",
    "                        r[\"mid_price\"],\n",
    "                        r['T'],\n",
    "                        r[\"cp_flag\"],\n",
    "                        r[\"moneyness\"],'blackscholes'), axis = 1)\n",
    "df_spx[\"impliedvol_bachelier\"] = df_spx.apply(lambda r: calc_implied_vol(\n",
    "                        spx_underlying,\n",
    "                        r[\"strike_price\"],\n",
    "                        r[\"r\"],\n",
    "                        r[\"mid_price\"],\n",
    "                        r['T'],\n",
    "                        r[\"cp_flag\"],\n",
    "                        r[\"moneyness\"],'bachelier'), axis = 1)\n",
    "df_spy[\"impliedvol_bachelier\"] = df_spy.apply(lambda r: calc_implied_vol(\n",
    "                        spy_underlying,\n",
    "                        r[\"strike_price\"],\n",
    "                        r[\"r\"],\n",
    "                        r[\"mid_price\"],\n",
    "                        r['T'],\n",
    "                        r[\"cp_flag\"],\n",
    "                        r[\"moneyness\"],'bachelier'), axis = 1)"
   ]
  },
  {
   "cell_type": "code",
   "execution_count": 15,
   "id": "274af7d2",
   "metadata": {
    "ExecuteTime": {
     "end_time": "2021-11-20T19:01:28.558980Z",
     "start_time": "2021-11-20T19:01:28.545960Z"
    }
   },
   "outputs": [],
   "source": [
    "#only interested in the OTM options to plot volatility smile\n",
    "\n",
    "df_spx_otm = df_spx[df_spx[\"moneyness\"] == \"OTM\"]\n",
    "df_spy_otm = df_spy[df_spy[\"moneyness\"] == \"OTM\"]"
   ]
  },
  {
   "cell_type": "code",
   "execution_count": 16,
   "id": "714c2ff9",
   "metadata": {
    "ExecuteTime": {
     "end_time": "2021-11-20T19:01:28.574943Z",
     "start_time": "2021-11-20T19:01:28.560944Z"
    }
   },
   "outputs": [],
   "source": [
    "def function_h(s):\n",
    "    return s**(1/3) + 1.5 * np.log(s) + 10\n",
    "\n",
    "#def function_h1(s):\n",
    "#    return (1/3)*s**(-2/3) + (1.5/s)\n",
    "\n",
    "def function_h2(s):\n",
    "    return -(2/9)*s**(-5/3) - (1.5/(s**2))"
   ]
  },
  {
   "cell_type": "markdown",
   "id": "6ad1345c",
   "metadata": {},
   "source": [
    "# static replication for SPX (using Jan expiry)"
   ]
  },
  {
   "cell_type": "code",
   "execution_count": 17,
   "id": "2f8c2120",
   "metadata": {
    "ExecuteTime": {
     "end_time": "2021-11-20T19:01:28.590943Z",
     "start_time": "2021-11-20T19:01:28.576942Z"
    }
   },
   "outputs": [],
   "source": [
    "#df_spx_dec = df_spx_otm[df_spx_otm[\"exdate\"] == 20201218].reset_index(drop = True)\n",
    "df_spx_jan = df_spx_otm[df_spx_otm[\"exdate\"] == 20210115].reset_index(drop = True)\n",
    "#df_spx_feb = df_spx_otm[df_spx_otm[\"exdate\"] == 20210219].reset_index(drop = True)"
   ]
  },
  {
   "cell_type": "code",
   "execution_count": 18,
   "id": "6a60dac4",
   "metadata": {
    "ExecuteTime": {
     "end_time": "2021-11-20T19:01:28.606943Z",
     "start_time": "2021-11-20T19:01:28.592944Z"
    }
   },
   "outputs": [
    {
     "data": {
      "text/plain": [
       "0.1232876712328767"
      ]
     },
     "execution_count": 18,
     "metadata": {},
     "output_type": "execute_result"
    }
   ],
   "source": [
    "T = df_spx_jan[\"T\"].iloc[0]\n",
    "T"
   ]
  },
  {
   "cell_type": "code",
   "execution_count": 19,
   "id": "2be2935e",
   "metadata": {
    "ExecuteTime": {
     "end_time": "2021-11-20T19:01:28.622980Z",
     "start_time": "2021-11-20T19:01:28.608946Z"
    }
   },
   "outputs": [
    {
     "data": {
      "text/plain": [
       "0.002051075555555556"
      ]
     },
     "execution_count": 19,
     "metadata": {},
     "output_type": "execute_result"
    }
   ],
   "source": [
    "r = df_spx_jan[\"r\"].iloc[0]\n",
    "#example of interpolating rate for a given day\n",
    "#rates_interp = interp1d(list(df_rates[\"days\"]), list(df_rates[\"rate\"]))\n",
    "#r = rates_interp([(datetime(2021, 1 ,15) - datetime(2020, 12 ,1)).days])[0]\n",
    "r"
   ]
  },
  {
   "cell_type": "code",
   "execution_count": 20,
   "id": "3b13aeb5",
   "metadata": {
    "ExecuteTime": {
     "end_time": "2021-11-20T19:01:28.638942Z",
     "start_time": "2021-11-20T19:01:28.624941Z"
    }
   },
   "outputs": [
    {
     "data": {
      "text/plain": [
       "3662.45"
      ]
     },
     "execution_count": 20,
     "metadata": {},
     "output_type": "execute_result"
    }
   ],
   "source": [
    "S = spx_underlying\n",
    "S"
   ]
  },
  {
   "cell_type": "code",
   "execution_count": 21,
   "id": "e28e01b6",
   "metadata": {
    "ExecuteTime": {
     "end_time": "2021-11-20T19:01:28.654944Z",
     "start_time": "2021-11-20T19:01:28.640946Z"
    }
   },
   "outputs": [
    {
     "data": {
      "text/plain": [
       "3663.3762493669747"
      ]
     },
     "execution_count": 21,
     "metadata": {},
     "output_type": "execute_result"
    }
   ],
   "source": [
    "F = df_spx_jan[\"F\"].iloc[0]\n",
    "#F =  S * np.exp(r*T)\n",
    "F"
   ]
  },
  {
   "cell_type": "markdown",
   "id": "1d4f12ac",
   "metadata": {},
   "source": [
    "## Black Scholes"
   ]
  },
  {
   "cell_type": "code",
   "execution_count": 22,
   "id": "67c1a06e",
   "metadata": {
    "ExecuteTime": {
     "end_time": "2021-11-20T19:02:04.778046Z",
     "start_time": "2021-11-20T19:02:04.755011Z"
    }
   },
   "outputs": [],
   "source": [
    "#get implied vol, midprice and strike of OTM put/call nearest to underlying price (ATM)\n",
    "\n",
    "df_spx_jan_c = df_spx_jan[df_spx_jan[\"cp_flag\"] == \"C\"]\n",
    "call_otm_implied_vol_jan = df_spx_jan_c.loc[(df_spx_jan_c[\"strike_price\"] - spx_underlying).idxmin()][\"impliedvol_blackscholes\"]\n",
    "call_otm_midprice_jan = df_spx_jan_c.loc[(df_spx_jan_c[\"strike_price\"] - spx_underlying).idxmin()][\"mid_price\"]\n",
    "call_otm_K_jan = df_spx_jan_c.loc[(df_spx_jan_c[\"strike_price\"] - spx_underlying).idxmin()][\"strike_price\"]\n",
    "\n",
    "df_spx_jan_p = df_spx_jan[df_spx_jan[\"cp_flag\"] == \"P\"]\n",
    "put_otm_implied_vol_jan = df_spx_jan_p.loc[(spx_underlying - df_spx_jan_p[\"strike_price\"] ).idxmin()][\"impliedvol_blackscholes\"]\n",
    "put_otm_midprice_jan = df_spx_jan_p.loc[(spx_underlying - df_spx_jan_p[\"strike_price\"] ).idxmin()][\"mid_price\"]\n",
    "put_otm_K_jan = df_spx_jan_p.loc[(spx_underlying - df_spx_jan_p[\"strike_price\"] ).idxmin()][\"strike_price\"]"
   ]
  },
  {
   "cell_type": "code",
   "execution_count": 28,
   "id": "5986dee7",
   "metadata": {
    "ExecuteTime": {
     "end_time": "2021-11-20T19:04:11.538644Z",
     "start_time": "2021-11-20T19:04:11.520654Z"
    }
   },
   "outputs": [
    {
     "data": {
      "text/plain": [
       "0.1849096526277256"
      ]
     },
     "execution_count": 28,
     "metadata": {},
     "output_type": "execute_result"
    }
   ],
   "source": [
    "#use interpolation of nearest otm put implied vol and nearest otm call implied vol to get sigma for BS\n",
    "\n",
    "sigmaBS = (spx_underlying - put_otm_K_jan) / (call_otm_K_jan - put_otm_K_jan) * (call_otm_implied_vol_jan - put_otm_implied_vol_jan) + put_otm_implied_vol_jan\n",
    "sigmaBS"
   ]
  },
  {
   "cell_type": "markdown",
   "id": "f896be3d",
   "metadata": {
    "ExecuteTime": {
     "end_time": "2021-11-20T10:21:21.471519Z",
     "start_time": "2021-11-20T10:21:21.466490Z"
    }
   },
   "source": [
    "#### For payoff function S^1/3 + 1.5 log(S) + 10"
   ]
  },
  {
   "cell_type": "code",
   "execution_count": 29,
   "id": "6964ebcc",
   "metadata": {
    "ExecuteTime": {
     "end_time": "2021-11-20T19:04:14.045054Z",
     "start_time": "2021-11-20T19:04:14.030873Z"
    }
   },
   "outputs": [],
   "source": [
    "def BScall_payoff1(S, K, r, sigma, T):\n",
    "    price = BlackScholesCall(S, K, r, sigma, T) * function_h2(K)\n",
    "    return price\n",
    "\n",
    "\n",
    "def BSput_payoff1(S, K, r, sigma, T):\n",
    "    price = BlackScholesPut(S, K, r, sigma, T) * function_h2(K)\n",
    "    return price"
   ]
  },
  {
   "cell_type": "code",
   "execution_count": 30,
   "id": "dbb6bed2",
   "metadata": {
    "ExecuteTime": {
     "end_time": "2021-11-20T19:04:16.502737Z",
     "start_time": "2021-11-20T19:04:16.467395Z"
    }
   },
   "outputs": [],
   "source": [
    "I_put = quad(lambda x: BSput_payoff1(S, x, r, sigmaBS, T), 1e-6, F)\n",
    "\n",
    "I_call = quad(lambda x: BScall_payoff1(S, x, r, sigmaBS, T), F, 5400)"
   ]
  },
  {
   "cell_type": "code",
   "execution_count": 31,
   "id": "7f0c68db",
   "metadata": {
    "ExecuteTime": {
     "end_time": "2021-11-20T19:04:16.786567Z",
     "start_time": "2021-11-20T19:04:16.779133Z"
    }
   },
   "outputs": [
    {
     "data": {
      "text/plain": [
       "37.72397660228189"
      ]
     },
     "execution_count": 31,
     "metadata": {},
     "output_type": "execute_result"
    }
   ],
   "source": [
    "np.exp(r*T)*function_h(F) + I_put[0] + I_call[0]"
   ]
  },
  {
   "cell_type": "markdown",
   "id": "b6fd4c4d",
   "metadata": {},
   "source": [
    "#### for payoff function: model free integrated variance"
   ]
  },
  {
   "cell_type": "code",
   "execution_count": 32,
   "id": "cb6e1d6c",
   "metadata": {
    "ExecuteTime": {
     "end_time": "2021-11-20T19:04:26.811000Z",
     "start_time": "2021-11-20T19:04:26.801000Z"
    }
   },
   "outputs": [],
   "source": [
    "def BScall_payoff2(S, K, r, sigma, T):\n",
    "    price = BlackScholesCall(S, K, r, sigma, T)  / (K**2)\n",
    "    return price\n",
    "\n",
    "\n",
    "def BSput_payoff2(S, K, r, sigma, T):\n",
    "    price = BlackScholesPut(S, K, r, sigma, T)  / (K**2)\n",
    "    return price"
   ]
  },
  {
   "cell_type": "code",
   "execution_count": 111,
   "id": "f8946f50",
   "metadata": {
    "ExecuteTime": {
     "end_time": "2021-11-20T19:22:40.400076Z",
     "start_time": "2021-11-20T19:22:40.365818Z"
    }
   },
   "outputs": [],
   "source": [
    "I_put = quad(lambda x: BSput_payoff2(S, x, r, sigmaBS, T), 1e-6, F)\n",
    "\n",
    "I_call = quad(lambda x: BScall_payoff2(S, x, r, sigmaBS, T), F, 5400)"
   ]
  },
  {
   "cell_type": "code",
   "execution_count": 112,
   "id": "53c9fe98",
   "metadata": {
    "ExecuteTime": {
     "end_time": "2021-11-20T19:22:40.776460Z",
     "start_time": "2021-11-20T19:22:40.758422Z"
    }
   },
   "outputs": [
    {
     "data": {
      "text/plain": [
       "0.00421540022888456"
      ]
     },
     "execution_count": 112,
     "metadata": {},
     "output_type": "execute_result"
    }
   ],
   "source": [
    "E_var = 2*np.exp(r*T)*(I_put[0] + I_call[0])\n",
    "E_var"
   ]
  },
  {
   "cell_type": "markdown",
   "id": "5b302c07",
   "metadata": {},
   "source": [
    "## Bachelier"
   ]
  },
  {
   "cell_type": "code",
   "execution_count": 87,
   "id": "65582470",
   "metadata": {
    "ExecuteTime": {
     "end_time": "2021-11-20T19:19:41.146210Z",
     "start_time": "2021-11-20T19:19:41.130210Z"
    }
   },
   "outputs": [],
   "source": [
    "#get implied vol, midprice and strike of OTM put/call nearest to underlying price (ATM)\n",
    "\n",
    "df_spx_jan_c = df_spx_jan[df_spx_jan[\"cp_flag\"] == \"C\"]\n",
    "call_otm_implied_vol_jan = df_spx_jan_c.loc[(df_spx_jan_c[\"strike_price\"] - spx_underlying).idxmin()][\"impliedvol_bachelier\"]\n",
    "call_otm_midprice_jan = df_spx_jan_c.loc[(df_spx_jan_c[\"strike_price\"] - spx_underlying).idxmin()][\"mid_price\"]\n",
    "call_otm_K_jan = df_spx_jan_c.loc[(df_spx_jan_c[\"strike_price\"] - spx_underlying).idxmin()][\"strike_price\"]\n",
    "\n",
    "df_spx_jan_p = df_spx_jan[df_spx_jan[\"cp_flag\"] == \"P\"]\n",
    "put_otm_implied_vol_jan = df_spx_jan_p.loc[(spx_underlying - df_spx_jan_p[\"strike_price\"] ).idxmin()][\"impliedvol_bachelier\"]\n",
    "put_otm_midprice_jan = df_spx_jan_p.loc[(spx_underlying - df_spx_jan_p[\"strike_price\"] ).idxmin()][\"mid_price\"]\n",
    "put_otm_K_jan = df_spx_jan_p.loc[(spx_underlying - df_spx_jan_p[\"strike_price\"] ).idxmin()][\"strike_price\"]"
   ]
  },
  {
   "cell_type": "code",
   "execution_count": 88,
   "id": "ef75a12d",
   "metadata": {
    "ExecuteTime": {
     "end_time": "2021-11-20T19:19:41.547903Z",
     "start_time": "2021-11-20T19:19:41.532907Z"
    }
   },
   "outputs": [
    {
     "data": {
      "text/plain": [
       "680.4947335307122"
      ]
     },
     "execution_count": 88,
     "metadata": {},
     "output_type": "execute_result"
    }
   ],
   "source": [
    "#use interpolation of nearest otm put implied vol and nearest otm call implied vol to get sigma for Bachelier\n",
    "\n",
    "sigmaBachelier = (spx_underlying - put_otm_K_jan) / (call_otm_K_jan - put_otm_K_jan) * (call_otm_implied_vol_jan - put_otm_implied_vol_jan) + put_otm_implied_vol_jan\n",
    "sigmaBachelier"
   ]
  },
  {
   "cell_type": "markdown",
   "id": "fd499513",
   "metadata": {},
   "source": [
    "#### For payoff function S^1/3 + 1.5 log(S) + 10"
   ]
  },
  {
   "cell_type": "code",
   "execution_count": 105,
   "id": "92c6a9b8",
   "metadata": {
    "ExecuteTime": {
     "end_time": "2021-11-20T19:22:10.500408Z",
     "start_time": "2021-11-20T19:22:10.361475Z"
    }
   },
   "outputs": [
    {
     "name": "stderr",
     "output_type": "stream",
     "text": [
      "C:\\Users\\Statistician\\Anaconda3\\lib\\site-packages\\ipykernel_launcher.py:10: IntegrationWarning: The integral is probably divergent, or slowly convergent.\n",
      "  # Remove the CWD from sys.path while we load stuff.\n"
     ]
    }
   ],
   "source": [
    "#### For payoff function S^1/3 + 1.5 log(S) + 10\n",
    "def callintegrand(S, K, r, sigma, T):\n",
    "    price = BachelierCall(S, K, r, sigma, T) * function_h2(K)\n",
    "    return price\n",
    "\n",
    "def putintegrand(S, K, r, sigma, T):\n",
    "    price = BachelierPut(S, K, r, sigma, T) * function_h2(K)\n",
    "    return price\n",
    "\n",
    "I_put = quad(lambda x: putintegrand(S, x, r, sigmaBachelier, T), 1e-6, F)\n",
    "I_call = quad(lambda x: callintegrand(S, x, r, sigmaBachelier, T), F, 5400)"
   ]
  },
  {
   "cell_type": "code",
   "execution_count": 106,
   "id": "e6530839",
   "metadata": {
    "ExecuteTime": {
     "end_time": "2021-11-20T19:22:11.205586Z",
     "start_time": "2021-11-20T19:22:11.187450Z"
    }
   },
   "outputs": [
    {
     "data": {
      "text/plain": [
       "37.72214118956419"
      ]
     },
     "execution_count": 106,
     "metadata": {},
     "output_type": "execute_result"
    }
   ],
   "source": [
    "np.exp(r*T)*function_h(F) + I_put[0] + I_call[0]"
   ]
  },
  {
   "cell_type": "markdown",
   "id": "2a871224",
   "metadata": {},
   "source": [
    "#### for payoff function: model free integrated variance"
   ]
  },
  {
   "cell_type": "code",
   "execution_count": 107,
   "id": "bab53106",
   "metadata": {
    "ExecuteTime": {
     "end_time": "2021-11-20T19:22:16.300713Z",
     "start_time": "2021-11-20T19:22:16.267737Z"
    }
   },
   "outputs": [],
   "source": [
    "def callintegrand2(S, K, r, sigma, T):\n",
    "    price = BachelierCall(S, K, r, sigma, T)  / (K**2)\n",
    "    return price\n",
    "\n",
    "def putintegrand2(S, K, r, sigma, T):\n",
    "    price = BachelierPut(S, K, r, sigma, T)  / (K**2)\n",
    "    return price\n",
    "\n",
    "I_put = quad(lambda x: BSput_payoff2(S, x, r, sigmaBS, T),  1e-6, F)\n",
    "I_call = quad(lambda x: BScall_payoff2(S, x, r, sigmaBS, T), F, 5400)"
   ]
  },
  {
   "cell_type": "code",
   "execution_count": 108,
   "id": "92f183ab",
   "metadata": {
    "ExecuteTime": {
     "end_time": "2021-11-20T19:22:16.598844Z",
     "start_time": "2021-11-20T19:22:16.579726Z"
    }
   },
   "outputs": [
    {
     "data": {
      "text/plain": [
       "0.00421540022888456"
      ]
     },
     "execution_count": 108,
     "metadata": {},
     "output_type": "execute_result"
    }
   ],
   "source": [
    "E_var = 2*np.exp(r*T)*(I_put[0] + I_call[0])\n",
    "E_var"
   ]
  },
  {
   "cell_type": "markdown",
   "id": "f959536e",
   "metadata": {},
   "source": [
    "## SABR"
   ]
  },
  {
   "cell_type": "markdown",
   "id": "fa8dd57f",
   "metadata": {},
   "source": [
    "Calibrated SABR model parameters for 20210115 expiry: alpha = 1.817, beta = 0.7, rho = -0.404, nu = 2.790"
   ]
  },
  {
   "cell_type": "code",
   "execution_count": 42,
   "id": "e2c6c34b",
   "metadata": {
    "ExecuteTime": {
     "end_time": "2021-11-20T19:08:17.163115Z",
     "start_time": "2021-11-20T19:08:17.155114Z"
    }
   },
   "outputs": [],
   "source": [
    "alpha = 1.817\n",
    "beta = 0.7\n",
    "rho = -0.404\n",
    "nu = 2.790"
   ]
  },
  {
   "cell_type": "code",
   "execution_count": 43,
   "id": "9d4a3495",
   "metadata": {
    "ExecuteTime": {
     "end_time": "2021-11-20T19:08:17.554306Z",
     "start_time": "2021-11-20T19:08:17.535272Z"
    }
   },
   "outputs": [],
   "source": [
    "def SABR(F, K, T, alpha, beta, rho, nu):\n",
    "    X = K\n",
    "    # if K is at-the-money-forward\n",
    "    if abs(F - K) < 1e-12:\n",
    "        numer1 = (((1 - beta)**2)/24)*alpha*alpha/(F**(2 - 2*beta))\n",
    "        numer2 = 0.25*rho*beta*nu*alpha/(F**(1 - beta))\n",
    "        numer3 = ((2 - 3*rho*rho)/24)*nu*nu\n",
    "        VolAtm = alpha*(1 + (numer1 + numer2 + numer3)*T)/(F**(1-beta))\n",
    "        sabrsigma = VolAtm\n",
    "    else:\n",
    "        z = (nu/alpha)*((F*X)**(0.5*(1-beta)))*np.log(F/X)\n",
    "        zhi = np.log((((1 - 2*rho*z + z*z)**0.5) + z - rho)/(1 - rho))\n",
    "        numer1 = (((1 - beta)**2)/24)*((alpha*alpha)/((F*X)**(1 - beta)))\n",
    "        numer2 = 0.25*rho*beta*nu*alpha/((F*X)**((1 - beta)/2))\n",
    "        numer3 = ((2 - 3*rho*rho)/24)*nu*nu\n",
    "        numer = alpha*(1 + (numer1 + numer2 + numer3)*T)*z\n",
    "        denom1 = ((1 - beta)**2/24)*(np.log(F/X))**2\n",
    "        denom2 = (((1 - beta)**4)/1920)*((np.log(F/X))**4)\n",
    "        denom = ((F*X)**((1 - beta)/2))*(1 + denom1 + denom2)*zhi\n",
    "        sabrsigma = numer/denom\n",
    "\n",
    "    return sabrsigma"
   ]
  },
  {
   "cell_type": "code",
   "execution_count": 44,
   "id": "8e19ef2e",
   "metadata": {
    "ExecuteTime": {
     "end_time": "2021-11-20T19:08:17.911484Z",
     "start_time": "2021-11-20T19:08:17.903473Z"
    }
   },
   "outputs": [],
   "source": [
    "def SABRCall(S, K, r, alpha, beta, rho, nu, T):\n",
    "    sabr_vol = SABR(S*np.exp(r*T), K, T, alpha, beta, rho, nu)\n",
    "    return BlackScholesCall(S, K, r, sabr_vol, T)\n",
    "\n",
    "\n",
    "def SABRPut(S, K, r, alpha, beta, rho, nu, T):\n",
    "    sabr_vol = SABR(S*np.exp(r*T), K, T, alpha, beta, rho, nu)\n",
    "    return BlackScholesPut(S, K, r, sabr_vol, T)\n"
   ]
  },
  {
   "cell_type": "markdown",
   "id": "cff396ed",
   "metadata": {},
   "source": [
    "#### For payoff function S^1/3 + 1.5 log(S) + 10"
   ]
  },
  {
   "cell_type": "code",
   "execution_count": 45,
   "id": "0e682fe3",
   "metadata": {
    "ExecuteTime": {
     "end_time": "2021-11-20T19:08:21.033725Z",
     "start_time": "2021-11-20T19:08:21.028724Z"
    }
   },
   "outputs": [],
   "source": [
    "def sabrcallintegrand_payoff1(K, S, r, T, alpha, beta, rho, nu):\n",
    "    price = SABRCall(S, K, r, alpha, beta, rho, nu, T) * function_h2(K)\n",
    "    return price\n",
    "\n",
    "\n",
    "def sabrputintegrand_payoff1(K, S, r, T, alpha, beta, rho, nu):\n",
    "    price = SABRPut(S, K, r, alpha, beta, rho, nu, T) * function_h2(K)\n",
    "    return price"
   ]
  },
  {
   "cell_type": "code",
   "execution_count": 46,
   "id": "26cccb9e",
   "metadata": {
    "ExecuteTime": {
     "end_time": "2021-11-20T19:08:21.593456Z",
     "start_time": "2021-11-20T19:08:21.484302Z"
    }
   },
   "outputs": [],
   "source": [
    "I_put = quad(lambda x: sabrputintegrand_payoff1(x, S, r, T, alpha, beta, rho, nu), 1e-6, F)\n",
    "\n",
    "I_call = quad(lambda x: sabrcallintegrand_payoff1(x, S, r, T, alpha, beta, rho, nu), F, 5400)"
   ]
  },
  {
   "cell_type": "code",
   "execution_count": 47,
   "id": "8964cd8f",
   "metadata": {
    "ExecuteTime": {
     "end_time": "2021-11-20T19:08:21.860571Z",
     "start_time": "2021-11-20T19:08:21.853560Z"
    }
   },
   "outputs": [
    {
     "data": {
      "text/plain": [
       "37.71946650705815"
      ]
     },
     "execution_count": 47,
     "metadata": {},
     "output_type": "execute_result"
    }
   ],
   "source": [
    "np.exp(r*T)*function_h(F) + I_put[0] + I_call[0]"
   ]
  },
  {
   "cell_type": "markdown",
   "id": "ab06ddd8",
   "metadata": {
    "ExecuteTime": {
     "end_time": "2021-11-13T07:04:31.768788Z",
     "start_time": "2021-11-13T07:04:31.753136Z"
    }
   },
   "source": [
    "#### for payoff function: model free integrated variance"
   ]
  },
  {
   "cell_type": "code",
   "execution_count": 115,
   "id": "3b317ef6",
   "metadata": {
    "ExecuteTime": {
     "end_time": "2021-11-20T19:23:42.667655Z",
     "start_time": "2021-11-20T19:23:42.648655Z"
    }
   },
   "outputs": [],
   "source": [
    "def sabrcallintegrand_payoff2(K, S, r, T, alpha, beta, rho, nu):\n",
    "    price = SABRCall(S, K, r, alpha, beta, rho, nu, T) / (K**2)\n",
    "    return price\n",
    "\n",
    "\n",
    "def sabrputintegrand_payoff2(K, S, r, T, alpha, beta, rho, nu):\n",
    "    price = SABRPut(S, K, r, alpha, beta, rho, nu, T) / (K**2)\n",
    "    return price"
   ]
  },
  {
   "cell_type": "code",
   "execution_count": 118,
   "id": "5a4beb90",
   "metadata": {
    "ExecuteTime": {
     "end_time": "2021-11-20T19:23:52.170255Z",
     "start_time": "2021-11-20T19:23:52.063081Z"
    }
   },
   "outputs": [],
   "source": [
    "I_put = quad(lambda x: sabrputintegrand_payoff2(x, S, r, T, alpha, beta, rho, nu), 1e-6, F)\n",
    "I_call = quad(lambda x: sabrcallintegrand_payoff2(x, S, r, T, alpha, beta, rho, nu), F, 5400)"
   ]
  },
  {
   "cell_type": "code",
   "execution_count": 119,
   "id": "7a31630a",
   "metadata": {
    "ExecuteTime": {
     "end_time": "2021-11-20T19:23:52.326260Z",
     "start_time": "2021-11-20T19:23:52.322263Z"
    }
   },
   "outputs": [
    {
     "data": {
      "text/plain": [
       "0.00634467674824901"
      ]
     },
     "execution_count": 119,
     "metadata": {},
     "output_type": "execute_result"
    }
   ],
   "source": [
    "E_var = 2*np.exp(r*T)*(I_put[0] + I_call[0])\n",
    "E_var"
   ]
  },
  {
   "cell_type": "code",
   "execution_count": null,
   "id": "84ec83f4",
   "metadata": {},
   "outputs": [],
   "source": []
  }
 ],
 "metadata": {
  "kernelspec": {
   "display_name": "Python 3",
   "language": "python",
   "name": "python3"
  },
  "language_info": {
   "codemirror_mode": {
    "name": "ipython",
    "version": 3
   },
   "file_extension": ".py",
   "mimetype": "text/x-python",
   "name": "python",
   "nbconvert_exporter": "python",
   "pygments_lexer": "ipython3",
   "version": "3.7.3"
  },
  "toc": {
   "base_numbering": 1,
   "nav_menu": {},
   "number_sections": true,
   "sideBar": true,
   "skip_h1_title": false,
   "title_cell": "Table of Contents",
   "title_sidebar": "Contents",
   "toc_cell": false,
   "toc_position": {},
   "toc_section_display": true,
   "toc_window_display": false
  }
 },
 "nbformat": 4,
 "nbformat_minor": 5
}
