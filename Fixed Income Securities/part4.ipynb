{
 "cells": [
  {
   "cell_type": "code",
   "execution_count": 1,
   "id": "90318ccd",
   "metadata": {},
   "outputs": [],
   "source": [
    "import numpy as np\n",
    "from scipy.stats import norm\n",
    "import scipy.integrate as integrate\n",
    "from scipy.misc import derivative"
   ]
  },
  {
   "cell_type": "code",
   "execution_count": 2,
   "id": "118c3c97",
   "metadata": {},
   "outputs": [],
   "source": [
    "def IRR_0(K, m, N):\n",
    "    # implementation of IRR(K) function\n",
    "    value = 1/K * ( 1.0 - 1/(1 + K/m)**(N*m) )\n",
    "    return value\n",
    "\n",
    "def IRR_1(K, m, N):\n",
    "    # implementation of IRR'(K) function (1st derivative)\n",
    "    firstDerivative = -1/K*IRR_0(K, m, N) + 1/(K*m)*N*m/(1+K/m)**(N*m+1)\n",
    "    return firstDerivative\n",
    "\n",
    "def IRR_2(K, m, N):\n",
    "    # implementation of IRR''(K) function (2nd derivative)\n",
    "    secondDerivative = -2/K*IRR_1(K, m, N) - 1/(K*m*m)*(N*m)*(N*m+1)/(1+K/m)**(N*m+2)\n",
    "    return secondDerivative"
   ]
  },
  {
   "cell_type": "code",
   "execution_count": 3,
   "id": "86449329",
   "metadata": {},
   "outputs": [],
   "source": [
    "def g_0(K):\n",
    "    return K**(1/4)-0.04**(1/2)\n",
    "\n",
    "def g_1(K):\n",
    "    return (1/4)*K**(-3/4)\n",
    "\n",
    "def g_2(K):\n",
    "    return (-3/16)*K**(-7/4)"
   ]
  },
  {
   "cell_type": "code",
   "execution_count": 4,
   "id": "fabc3cc6",
   "metadata": {},
   "outputs": [],
   "source": [
    "def h_0(K, m, N):\n",
    "    # implementation of h(K)\n",
    "    value = g_0(K) / IRR_0(K, m, N)\n",
    "    return value\n",
    "\n",
    "def h_1(K, m, N):\n",
    "    # implementation of h'(K) (1st derivative)\n",
    "    firstDerivative = (IRR_0(K, m, N)*g_1(K) - g_0(K)*IRR_1(K, m, N)) / IRR_0(K, m, N)**2\n",
    "    return firstDerivative\n",
    "\n",
    "def h_2(K, m, N):\n",
    "    # implementation of h''(K) (2nd derivative)\n",
    "    secondDerivative = ((IRR_0(K, m, N)*g_2(K) - IRR_2(K, m, N)*g_0(K) - 2.0*IRR_1(K, m, N)*g_1(K))/IRR_0(K, m, N)**2 \n",
    "                        + 2.0*IRR_1(K, m, N)**2*g_0(K)/IRR_0(K, m, N)**3)\n",
    "    return secondDerivative"
   ]
  },
  {
   "cell_type": "code",
   "execution_count": 5,
   "id": "8b14ee92",
   "metadata": {},
   "outputs": [],
   "source": [
    "def Black76(direction, F, K, sigma, T):\n",
    "    d1 = (np.log(F/K)+(sigma**2/2)*T) / (sigma*np.sqrt(T))\n",
    "    d2 = d1 - sigma*np.sqrt(T)\n",
    "    if direction == \"call\":\n",
    "        return (F*norm.cdf(d1) - K*norm.cdf(d2))\n",
    "    if direction == \"put\":\n",
    "        return (-F*norm.cdf(-d1) + K*norm.cdf(-d2))"
   ]
  },
  {
   "cell_type": "markdown",
   "id": "166270da",
   "metadata": {},
   "source": [
    "We will also need to implement the IRR-settled payer and receiver swaption formulae:\n",
    "\n",
    "  \\begin{equation*}\n",
    "    \\begin{split}\n",
    "      V^{pay}_{n,N}(0) &= D(0,T_n) \\cdot \\mbox{IRR}(S_{n,N}(0)) \\cdot \\mbox{Black76Call}(S_{n,N}(0),K,\\sigma_{n,N},T) \\\\\n",
    "      V^{rec}_{n,N}(0) &= D(0,T_n) \\cdot \\mbox{IRR}(S_{n,N}(0)) \\cdot \\mbox{Black76Put}(S_{n,N}(0),K,\\sigma_{n,N},T) \\\\\n",
    "    \\end{split}\n",
    "  \\end{equation*}\n",
    "\n",
    "where $S_{n,N}(0)=F$ is today's forward swap rate calculated based on the curves we bootstrapped, and $\\sigma_{n,N}$ is the SABR implied volatility calibrated to swaption market data."
   ]
  },
  {
   "cell_type": "code",
   "execution_count": 6,
   "id": "a6488e7e",
   "metadata": {},
   "outputs": [],
   "source": [
    "def swaption(direction, S, K, N, sigma, m, T, discount):\n",
    "    if direction == \"pay\":  ##pay use call\n",
    "        #return discount*IRR_0(S, m, N)*Black76(\"call\", S, K, sigma, T)\n",
    "            return discount*IRR_0(S,m,N)*Black76(\"call\", S, K, sigma, T)\n",
    "    if direction == \"rec\": ##receiver use put\n",
    "        #return discount*IRR_0(S, m, N)*Black76(\"put\", S, K, sigma, T)\n",
    "        return discount*IRR_0(S,m,N)*Black76(\"put\", S, K, sigma, T)"
   ]
  },
  {
   "cell_type": "code",
   "execution_count": 7,
   "id": "795c0af1",
   "metadata": {},
   "outputs": [],
   "source": [
    "#sabr sigma changes with k, so need use different sigma over region of integration\n",
    "def SABR(F, K, T, alpha, beta, rho, nu):\n",
    "    X = K\n",
    "    # if K is at-the-money-forward\n",
    "    if abs(F - K) < 1e-12:\n",
    "        numer1 = (((1 - beta)**2)/24)*alpha*alpha/(F**(2 - 2*beta))\n",
    "        numer2 = 0.25*rho*beta*nu*alpha/(F**(1 - beta))\n",
    "        numer3 = ((2 - 3*rho*rho)/24)*nu*nu\n",
    "        VolAtm = alpha*(1 + (numer1 + numer2 + numer3)*T)/(F**(1-beta))\n",
    "        sabrsigma = VolAtm\n",
    "    else:\n",
    "        z = (nu/alpha)*((F*X)**(0.5*(1-beta)))*np.log(F/X)\n",
    "        zhi = np.log((((1 - 2*rho*z + z*z)**0.5) + z - rho)/(1 - rho))\n",
    "        numer1 = (((1 - beta)**2)/24)*((alpha*alpha)/((F*X)**(1 - beta)))\n",
    "        numer2 = 0.25*rho*beta*nu*alpha/((F*X)**((1 - beta)/2))\n",
    "        numer3 = ((2 - 3*rho*rho)/24)*nu*nu\n",
    "        numer = alpha*(1 + (numer1 + numer2 + numer3)*T)*z\n",
    "        denom1 = ((1 - beta)**2/24)*(np.log(F/X))**2\n",
    "        denom2 = (((1 - beta)**4)/1920)*((np.log(F/X))**4)\n",
    "        denom = ((F*X)**((1 - beta)/2))*(1 + denom1 + denom2)*zhi\n",
    "        sabrsigma = numer/denom\n",
    "\n",
    "    return sabrsigma"
   ]
  },
  {
   "cell_type": "code",
   "execution_count": 13,
   "id": "812a2bfd",
   "metadata": {},
   "outputs": [],
   "source": [
    "# parameters\n",
    "a = 0.168234\n",
    "r = -0.358823\n",
    "n = 0.556587\n",
    "b = 0.9 \n",
    "    \n",
    "F = 0.043612  \n",
    "     #uncolaterized 0.04}\"5117 forward swap  ##colaterized0.043612\n",
    "N = 10\n",
    "T = 5\n",
    "m = 2\n",
    "discount = 0.98218411973321 #ois discount factor"
   ]
  },
  {
   "cell_type": "markdown",
   "id": "b670162d",
   "metadata": {},
   "source": [
    "#### CMS 10y1/p − 0.041/q"
   ]
  },
  {
   "cell_type": "code",
   "execution_count": 14,
   "id": "2bc36ce0",
   "metadata": {},
   "outputs": [],
   "source": [
    "def numerical_integration_part_1():\n",
    "    sigma = SABR(F, F, T, a, b, r, n)\n",
    "    pay_rec_value = h_1(F, m, N)*(swaption(\"pay\", F, F, N, sigma, m, T, discount) - swaption(\"rec\", F, F, N, sigma, m, T, discount))\n",
    "    integrand_rec = lambda k: h_2(k, m, N) * swaption(\"rec\", F, k, N, SABR(F, k, T, a, b, r, n), m, T, discount)\n",
    "    put_part, error = integrate.quad(integrand_rec, 0, F)\n",
    "    integrand_pay = lambda k: h_2(k, m, N) * swaption(\"pay\", F, k, N, SABR(F, k, T, a, b, r, n), m, T, discount)\n",
    "    call_part, error = integrate.quad(integrand_pay, F, 5400)\n",
    "    print(integrand_pay)\n",
    "    return discount * g_0(F) + put_part+ call_part"
   ]
  },
  {
   "cell_type": "code",
   "execution_count": 15,
   "id": "193361f0",
   "metadata": {},
   "outputs": [
    {
     "name": "stdout",
     "output_type": "stream",
     "text": [
      "<function numerical_integration_part_1.<locals>.<lambda> at 0x000002A369E58A60>\n"
     ]
    },
    {
     "name": "stderr",
     "output_type": "stream",
     "text": [
      "<ipython-input-14-80dae3801b70>:5: IntegrationWarning: The maximum number of subdivisions (50) has been achieved.\n",
      "  If increasing the limit yields no improvement it is advised to analyze \n",
      "  the integrand in order to determine the difficulties.  If the position of a \n",
      "  local difficulty can be determined (singularity, discontinuity) one will \n",
      "  probably gain from splitting up the interval and calling the integrator \n",
      "  on the subranges.  Perhaps a special-purpose integrator should be used.\n",
      "  put_part, error = integrate.quad(integrand_rec, 0, F)\n"
     ]
    },
    {
     "data": {
      "text/plain": [
       "0.23694977260270478"
      ]
     },
     "execution_count": 15,
     "metadata": {},
     "output_type": "execute_result"
    }
   ],
   "source": [
    "payoff_part_1 = numerical_integration_part_1()\n",
    "payoff_part_1"
   ]
  },
  {
   "cell_type": "markdown",
   "id": "fae56dc0",
   "metadata": {},
   "source": [
    "#### (CMS 10y1/p − 0.041/q)+"
   ]
  },
  {
   "cell_type": "code",
   "execution_count": 16,
   "id": "6c48c477",
   "metadata": {},
   "outputs": [],
   "source": [
    "a = 0.168234\n",
    "r = -0.358823\n",
    "n = 0.556587\n",
    "b = 0.9 \n",
    "    \n",
    "F = 0.043612  \n",
    "N = 10\n",
    "T = 5\n",
    "m = 2\n",
    "L = 0.04**(2) \n",
    "\n",
    "vol=SABR(F, L, T, a, b, r, n)\n",
    "pay_rec_value = h_1(0.0016,m,N)*swaption(\"pay\", F, 0.0016, N, vol, m, T, discount)\n",
    "integrand_pay = lambda k: h_2(k, m, N) * swaption(\"pay\", F, k, N, SABR(F, k, T, a, 0.9, r, n), m, T, discount)\n",
    "call_part, error = integrate.quad(integrand_pay, 0.0016, 5400)\n",
    "value = pay_rec_value + call_part"
   ]
  },
  {
   "cell_type": "code",
   "execution_count": 17,
   "id": "de126c89",
   "metadata": {},
   "outputs": [
    {
     "data": {
      "text/plain": [
       "0.2591629795667644"
      ]
     },
     "execution_count": 17,
     "metadata": {},
     "output_type": "execute_result"
    }
   ],
   "source": [
    "value"
   ]
  },
  {
   "cell_type": "code",
   "execution_count": null,
   "id": "939e0f7b",
   "metadata": {},
   "outputs": [],
   "source": []
  }
 ],
 "metadata": {
  "kernelspec": {
   "display_name": "Python 3",
   "language": "python",
   "name": "python3"
  },
  "language_info": {
   "codemirror_mode": {
    "name": "ipython",
    "version": 3
   },
   "file_extension": ".py",
   "mimetype": "text/x-python",
   "name": "python",
   "nbconvert_exporter": "python",
   "pygments_lexer": "ipython3",
   "version": "3.8.8"
  }
 },
 "nbformat": 4,
 "nbformat_minor": 5
}
